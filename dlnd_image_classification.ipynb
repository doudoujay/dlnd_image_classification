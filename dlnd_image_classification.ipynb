{
 "cells": [
  {
   "cell_type": "markdown",
   "metadata": {
    "collapsed": true
   },
   "source": [
    "# Image Classification\n",
    "In this project, you'll classify images from the [CIFAR-10 dataset](https://www.cs.toronto.edu/~kriz/cifar.html).  The dataset consists of airplanes, dogs, cats, and other objects. You'll preprocess the images, then train a convolutional neural network on all the samples. The images need to be normalized and the labels need to be one-hot encoded.  You'll get to apply what you learned and build a convolutional, max pooling, dropout, and fully connected layers.  At the end, you'll get to see your neural network's predictions on the sample images.\n",
    "## Get the Data\n",
    "Run the following cell to download the [CIFAR-10 dataset for python](https://www.cs.toronto.edu/~kriz/cifar-10-python.tar.gz)."
   ]
  },
  {
   "cell_type": "code",
   "execution_count": 1,
   "metadata": {},
   "outputs": [
    {
     "name": "stdout",
     "output_type": "stream",
     "text": [
      "All files found!\n"
     ]
    }
   ],
   "source": [
    "\"\"\"\n",
    "DON'T MODIFY ANYTHING IN THIS CELL THAT IS BELOW THIS LINE\n",
    "\"\"\"\n",
    "from urllib.request import urlretrieve\n",
    "from os.path import isfile, isdir\n",
    "from tqdm import tqdm\n",
    "import problem_unittests as tests\n",
    "import tarfile\n",
    "\n",
    "cifar10_dataset_folder_path = 'cifar-10-batches-py'\n",
    "\n",
    "# Use Floyd's cifar-10 dataset if present\n",
    "floyd_cifar10_location = '/input/cifar-10/python.tar.gz'\n",
    "if isfile(floyd_cifar10_location):\n",
    "    tar_gz_path = floyd_cifar10_location\n",
    "else:\n",
    "    tar_gz_path = 'cifar-10-python.tar.gz'\n",
    "\n",
    "class DLProgress(tqdm):\n",
    "    last_block = 0\n",
    "\n",
    "    def hook(self, block_num=1, block_size=1, total_size=None):\n",
    "        self.total = total_size\n",
    "        self.update((block_num - self.last_block) * block_size)\n",
    "        self.last_block = block_num\n",
    "\n",
    "if not isfile(tar_gz_path):\n",
    "    with DLProgress(unit='B', unit_scale=True, miniters=1, desc='CIFAR-10 Dataset') as pbar:\n",
    "        urlretrieve(\n",
    "            'https://www.cs.toronto.edu/~kriz/cifar-10-python.tar.gz',\n",
    "            tar_gz_path,\n",
    "            pbar.hook)\n",
    "\n",
    "if not isdir(cifar10_dataset_folder_path):\n",
    "    with tarfile.open(tar_gz_path) as tar:\n",
    "        tar.extractall()\n",
    "        tar.close()\n",
    "\n",
    "\n",
    "tests.test_folder_path(cifar10_dataset_folder_path)"
   ]
  },
  {
   "cell_type": "markdown",
   "metadata": {},
   "source": [
    "## Explore the Data\n",
    "The dataset is broken into batches to prevent your machine from running out of memory.  The CIFAR-10 dataset consists of 5 batches, named `data_batch_1`, `data_batch_2`, etc.. Each batch contains the labels and images that are one of the following:\n",
    "* airplane\n",
    "* automobile\n",
    "* bird\n",
    "* cat\n",
    "* deer\n",
    "* dog\n",
    "* frog\n",
    "* horse\n",
    "* ship\n",
    "* truck\n",
    "\n",
    "Understanding a dataset is part of making predictions on the data.  Play around with the code cell below by changing the `batch_id` and `sample_id`. The `batch_id` is the id for a batch (1-5). The `sample_id` is the id for a image and label pair in the batch.\n",
    "\n",
    "Ask yourself \"What are all possible labels?\", \"What is the range of values for the image data?\", \"Are the labels in order or random?\".  Answers to questions like these will help you preprocess the data and end up with better predictions."
   ]
  },
  {
   "cell_type": "code",
   "execution_count": 98,
   "metadata": {},
   "outputs": [
    {
     "name": "stdout",
     "output_type": "stream",
     "text": [
      "\n",
      "Stats of batch 1:\n",
      "Samples: 10000\n",
      "Label Counts: {0: 1005, 1: 974, 2: 1032, 3: 1016, 4: 999, 5: 937, 6: 1030, 7: 1001, 8: 1025, 9: 981}\n",
      "First 20 Labels: [6, 9, 9, 4, 1, 1, 2, 7, 8, 3, 4, 7, 7, 2, 9, 9, 9, 3, 2, 6]\n",
      "\n",
      "Example of Image 2432:\n",
      "Image - Min Value: 2 Max Value: 240\n",
      "Image - Shape: (32, 32, 3)\n",
      "Label - Label Id: 3 Name: cat\n"
     ]
    },
    {
     "data": {
      "image/png": "[encoded data removed]",
      "text/plain": [
       "<matplotlib.figure.Figure at 0x7f3f7162c9b0>"
      ]
     },
     "metadata": {
      "image/png": {
       "height": 250,
       "width": 253
      }
     },
     "output_type": "display_data"
    }
   ],
   "source": [
    "%matplotlib inline\n",
    "%config InlineBackend.figure_format = 'retina'\n",
    "\n",
    "import helper\n",
    "import numpy as np\n",
    "\n",
    "# Explore the dataset\n",
    "batch_id = 1\n",
    "sample_id = 2432\n",
    "helper.display_stats(cifar10_dataset_folder_path, batch_id, sample_id)"
   ]
  },
  {
   "cell_type": "markdown",
   "metadata": {},
   "source": [
    "### \"What are all possible labels?\" \n",
    "\n",
    "    airplane\n",
    "    automobile\n",
    "    bird\n",
    "    cat\n",
    "    deer\n",
    "    dog\n",
    "    frog\n",
    "    horse\n",
    "    ship\n",
    "    truck\n",
    "    \n",
    "0~9 totally 10\n",
    "\n",
    "### \"What is the range of values for the image data?\" \n",
    "\n",
    "Image - Min Value ~ Max Value in 0~255\n",
    "\n",
    "### \"Are the labels in order or random?\"\n",
    "\n",
    "Random"
   ]
  },
  {
   "cell_type": "markdown",
   "metadata": {},
   "source": [
    "## Implement Preprocess Functions\n",
    "### Normalize\n",
    "In the cell below, implement the `normalize` function to take in image data, `x`, and return it as a normalized Numpy array. The values should be in the range of 0 to 1, inclusive.  The return object should be the same shape as `x`."
   ]
  },
  {
   "cell_type": "code",
   "execution_count": 21,
   "metadata": {},
   "outputs": [
    {
     "name": "stdout",
     "output_type": "stream",
     "text": [
      "Tests Passed\n"
     ]
    }
   ],
   "source": [
    "def normalize(x):\n",
    "    \"\"\"\n",
    "    Normalize a list of sample image data in the range of 0 to 1\n",
    "    : x: List of image data.  The image shape is (32, 32, 3)\n",
    "    : return: Numpy array of normalize data\n",
    "    \"\"\"\n",
    "    # TODO: Implement Function\n",
    "    # range from 0~255\n",
    "    # print(x/255)\n",
    "    return x/255\n",
    "\n",
    "\n",
    "\"\"\"\n",
    "DON'T MODIFY ANYTHING IN THIS CELL THAT IS BELOW THIS LINE\n",
    "\"\"\"\n",
    "tests.test_normalize(normalize)"
   ]
  },
  {
   "cell_type": "markdown",
   "metadata": {},
   "source": [
    "### One-hot encode\n",
    "Just like the previous code cell, you'll be implementing a function for preprocessing.  This time, you'll implement the `one_hot_encode` function. The input, `x`, are a list of labels.  Implement the function to return the list of labels as One-Hot encoded Numpy array.  The possible values for labels are 0 to 9. The one-hot encoding function should return the same encoding for each value between each call to `one_hot_encode`.  Make sure to save the map of encodings outside the function.\n",
    "\n",
    "Hint: Don't reinvent the wheel."
   ]
  },
  {
   "cell_type": "code",
   "execution_count": 34,
   "metadata": {},
   "outputs": [
    {
     "name": "stdout",
     "output_type": "stream",
     "text": [
      "Tests Passed\n"
     ]
    }
   ],
   "source": [
    "def one_hot_encode(x):\n",
    "    \"\"\"\n",
    "    One hot encode a list of sample labels. Return a one-hot encoded vector for each label.\n",
    "    : x: List of sample Labels\n",
    "    : return: Numpy array of one-hot encoded labels\n",
    "    \"\"\"\n",
    "    # TODO: Implement Function\n",
    "    n_classes = 10\n",
    "    result = np.zeros((len(x),n_classes))\n",
    "    for index,num in enumerate(x):\n",
    "        result[index][num] = 1\n",
    "    return result\n",
    "\n",
    "\n",
    "\"\"\"\n",
    "DON'T MODIFY ANYTHING IN THIS CELL THAT IS BELOW THIS LINE\n",
    "\"\"\"\n",
    "tests.test_one_hot_encode(one_hot_encode)"
   ]
  },
  {
   "cell_type": "markdown",
   "metadata": {},
   "source": [
    "### Randomize Data\n",
    "As you saw from exploring the data above, the order of the samples are randomized.  It doesn't hurt to randomize it again, but you don't need to for this dataset."
   ]
  },
  {
   "cell_type": "markdown",
   "metadata": {},
   "source": [
    "## Preprocess all the data and save it\n",
    "Running the code cell below will preprocess all the CIFAR-10 data and save it to file. The code below also uses 10% of the training data for validation."
   ]
  },
  {
   "cell_type": "code",
   "execution_count": 35,
   "metadata": {
    "collapsed": true
   },
   "outputs": [],
   "source": [
    "\"\"\"\n",
    "DON'T MODIFY ANYTHING IN THIS CELL\n",
    "\"\"\"\n",
    "# Preprocess Training, Validation, and Testing Data\n",
    "helper.preprocess_and_save_data(cifar10_dataset_folder_path, normalize, one_hot_encode)"
   ]
  },
  {
   "cell_type": "markdown",
   "metadata": {},
   "source": [
    "# Check Point\n",
    "This is your first checkpoint.  If you ever decide to come back to this notebook or have to restart the notebook, you can start from here.  The preprocessed data has been saved to disk."
   ]
  },
  {
   "cell_type": "code",
   "execution_count": 37,
   "metadata": {
    "collapsed": true
   },
   "outputs": [],
   "source": [
    "\"\"\"\n",
    "DON'T MODIFY ANYTHING IN THIS CELL\n",
    "\"\"\"\n",
    "import pickle\n",
    "import problem_unittests as tests\n",
    "import helper\n",
    "\n",
    "# Load the Preprocessed Validation data\n",
    "valid_features, valid_labels = pickle.load(open('preprocess_validation.p', mode='rb'))"
   ]
  },
  {
   "cell_type": "markdown",
   "metadata": {},
   "source": [
    "## Build the network\n",
    "For the neural network, you'll build each layer into a function.  Most of the code you've seen has been outside of functions. To test your code more thoroughly, we require that you put each layer in a function.  This allows us to give you better feedback and test for simple mistakes using our unittests before you submit your project.\n",
    "\n",
    ">**Note:** If you're finding it hard to dedicate enough time for this course each week, we've provided a small shortcut to this part of the project. In the next couple of problems, you'll have the option to use classes from the [TensorFlow Layers](https://www.tensorflow.org/api_docs/python/tf/layers) or [TensorFlow Layers (contrib)](https://www.tensorflow.org/api_guides/python/contrib.layers) packages to build each layer, except the layers you build in the \"Convolutional and Max Pooling Layer\" section.  TF Layers is similar to Keras's and TFLearn's abstraction to layers, so it's easy to pickup.\n",
    "\n",
    ">However, if you would like to get the most out of this course, try to solve all the problems _without_ using anything from the TF Layers packages. You **can** still use classes from other packages that happen to have the same name as ones you find in TF Layers! For example, instead of using the TF Layers version of the `conv2d` class, [tf.layers.conv2d](https://www.tensorflow.org/api_docs/python/tf/layers/conv2d), you would want to use the TF Neural Network version of `conv2d`, [tf.nn.conv2d](https://www.tensorflow.org/api_docs/python/tf/nn/conv2d). \n",
    "\n",
    "Let's begin!\n",
    "\n",
    "### Input\n",
    "The neural network needs to read the image data, one-hot encoded labels, and dropout keep probability. Implement the following functions\n",
    "* Implement `neural_net_image_input`\n",
    " * Return a [TF Placeholder](https://www.tensorflow.org/api_docs/python/tf/placeholder)\n",
    " * Set the shape using `image_shape` with batch size set to `None`.\n",
    " * Name the TensorFlow placeholder \"x\" using the TensorFlow `name` parameter in the [TF Placeholder](https://www.tensorflow.org/api_docs/python/tf/placeholder).\n",
    "* Implement `neural_net_label_input`\n",
    " * Return a [TF Placeholder](https://www.tensorflow.org/api_docs/python/tf/placeholder)\n",
    " * Set the shape using `n_classes` with batch size set to `None`.\n",
    " * Name the TensorFlow placeholder \"y\" using the TensorFlow `name` parameter in the [TF Placeholder](https://www.tensorflow.org/api_docs/python/tf/placeholder).\n",
    "* Implement `neural_net_keep_prob_input`\n",
    " * Return a [TF Placeholder](https://www.tensorflow.org/api_docs/python/tf/placeholder) for dropout keep probability.\n",
    " * Name the TensorFlow placeholder \"keep_prob\" using the TensorFlow `name` parameter in the [TF Placeholder](https://www.tensorflow.org/api_docs/python/tf/placeholder).\n",
    "\n",
    "These names will be used at the end of the project to load your saved model.\n",
    "\n",
    "Note: `None` for shapes in TensorFlow allow for a dynamic size."
   ]
  },
  {
   "cell_type": "code",
   "execution_count": 42,
   "metadata": {},
   "outputs": [
    {
     "name": "stdout",
     "output_type": "stream",
     "text": [
      "Image Input Tests Passed.\n",
      "Label Input Tests Passed.\n",
      "Keep Prob Tests Passed.\n"
     ]
    }
   ],
   "source": [
    "import tensorflow as tf\n",
    "\n",
    "def neural_net_image_input(image_shape):\n",
    "    \"\"\"\n",
    "    Return a Tensor for a batch of image input\n",
    "    : image_shape: Shape of the images\n",
    "    : return: Tensor for image input.\n",
    "    \"\"\"\n",
    "\n",
    "    # TODO: Implement Function\n",
    "    return tf.placeholder(tf.float32, shape=(None,image_shape[0],image_shape[1],image_shape[2]), name=\"x\")\n",
    "\n",
    "\n",
    "def neural_net_label_input(n_classes):\n",
    "    \"\"\"\n",
    "    Return a Tensor for a batch of label input\n",
    "    : n_classes: Number of classes\n",
    "    : return: Tensor for label input.\n",
    "    \"\"\"\n",
    "    # TODO: Implement Function\n",
    "    return tf.placeholder(tf.float32, shape=(None,n_classes),name=\"y\")\n",
    "\n",
    "\n",
    "def neural_net_keep_prob_input():\n",
    "    \"\"\"\n",
    "    Return a Tensor for keep probability\n",
    "    : return: Tensor for keep probability.\n",
    "    \"\"\"\n",
    "    # TODO: Implement Function\n",
    "    return tf.placeholder(tf.float32,name=\"keep_prob\")\n",
    "\n",
    "\n",
    "\"\"\"\n",
    "DON'T MODIFY ANYTHING IN THIS CELL THAT IS BELOW THIS LINE\n",
    "\"\"\"\n",
    "tf.reset_default_graph()\n",
    "tests.test_nn_image_inputs(neural_net_image_input)\n",
    "tests.test_nn_label_inputs(neural_net_label_input)\n",
    "tests.test_nn_keep_prob_inputs(neural_net_keep_prob_input)"
   ]
  },
  {
   "cell_type": "markdown",
   "metadata": {},
   "source": [
    "### Convolution and Max Pooling Layer\n",
    "Convolution layers have a lot of success with images. For this code cell, you should implement the function `conv2d_maxpool` to apply convolution then max pooling:\n",
    "* Create the weight and bias using `conv_ksize`, `conv_num_outputs` and the shape of `x_tensor`.\n",
    "* Apply a convolution to `x_tensor` using weight and `conv_strides`.\n",
    " * We recommend you use same padding, but you're welcome to use any padding.\n",
    "* Add bias\n",
    "* Add a nonlinear activation to the convolution.\n",
    "* Apply Max Pooling using `pool_ksize` and `pool_strides`.\n",
    " * We recommend you use same padding, but you're welcome to use any padding.\n",
    "\n",
    "**Note:** You **can't** use [TensorFlow Layers](https://www.tensorflow.org/api_docs/python/tf/layers) or [TensorFlow Layers (contrib)](https://www.tensorflow.org/api_guides/python/contrib.layers) for **this** layer, but you can still use TensorFlow's [Neural Network](https://www.tensorflow.org/api_docs/python/tf/nn) package. You may still use the shortcut option for all the **other** layers."
   ]
  },
  {
   "cell_type": "code",
   "execution_count": 108,
   "metadata": {},
   "outputs": [
    {
     "name": "stdout",
     "output_type": "stream",
     "text": [
      "Tests Passed\n"
     ]
    }
   ],
   "source": [
    "def conv2d_maxpool(x_tensor, conv_num_outputs, conv_ksize, conv_strides, pool_ksize, pool_strides):\n",
    "    \"\"\"\n",
    "    Apply convolution then max pooling to x_tensor\n",
    "    :param x_tensor: TensorFlow Tensor\n",
    "    :param conv_num_outputs: Number of outputs for the convolutional layer\n",
    "    :param conv_ksize: kernal size 2-D Tuple for the convolutional layer\n",
    "    :param conv_strides: Stride 2-D Tuple for convolution\n",
    "    :param pool_ksize: kernal size 2-D Tuple for pool\n",
    "    :param pool_strides: Stride 2-D Tuple for pool\n",
    "    : return: A tensor that represents convolution and max pooling of x_tensor\n",
    "    \"\"\"\n",
    "    # TODO: Implement Function\n",
    "    _, orig_h, orig_w, color_channels = x_tensor.get_shape().as_list()\n",
    "    weight = tf.Variable(tf.truncated_normal([conv_ksize[0],conv_ksize[1],color_channels,conv_num_outputs],stddev=np.sqrt(2.0/10000)))\n",
    "    bias = tf.Variable(tf.zeros(conv_num_outputs))\n",
    "    strides = [1] + list(conv_strides) +[1]\n",
    "    padding = \"SAME\"\n",
    "#     conv 2d \n",
    "    conv = tf.nn.conv2d(x_tensor,weight,strides,padding)\n",
    "#     bias add\n",
    "    conv = tf.nn.bias_add(conv, bias)\n",
    "#     Relu\n",
    "    conv = tf.nn.relu(conv)\n",
    "#     Max pool\n",
    "    ksize = [1] + list(pool_ksize) +[1]\n",
    "    strides = [1] + list(pool_strides) +[1]\n",
    "    conv = tf.nn.max_pool(conv,ksize,strides,padding)\n",
    "    return conv \n",
    "\n",
    "\n",
    "\"\"\"\n",
    "DON'T MODIFY ANYTHING IN THIS CELL THAT IS BELOW THIS LINE\n",
    "\"\"\"\n",
    "tests.test_con_pool(conv2d_maxpool)"
   ]
  },
  {
   "cell_type": "markdown",
   "metadata": {},
   "source": [
    "### Flatten Layer\n",
    "Implement the `flatten` function to change the dimension of `x_tensor` from a 4-D tensor to a 2-D tensor.  The output should be the shape (*Batch Size*, *Flattened Image Size*). Shortcut option: you can use classes from the [TensorFlow Layers](https://www.tensorflow.org/api_docs/python/tf/layers) or [TensorFlow Layers (contrib)](https://www.tensorflow.org/api_guides/python/contrib.layers) packages for this layer. For more of a challenge, only use other TensorFlow packages."
   ]
  },
  {
   "cell_type": "code",
   "execution_count": 58,
   "metadata": {},
   "outputs": [
    {
     "name": "stdout",
     "output_type": "stream",
     "text": [
      "Tests Passed\n"
     ]
    }
   ],
   "source": [
    "def flatten(x_tensor):\n",
    "    \"\"\"\n",
    "    Flatten x_tensor to (Batch Size, Flattened Image Size)\n",
    "    : x_tensor: A tensor of size (Batch Size, ...), where ... are the image dimensions.\n",
    "    : return: A tensor of size (Batch Size, Flattened Image Size).\n",
    "    \"\"\"\n",
    "    # TODO: Implement Function\n",
    "    shape = x_tensor.get_shape().as_list()\n",
    "#     Get rid of None\n",
    "    dim = np.prod(shape[1:])\n",
    "# -1 can also be used to infer the shape\n",
    "    return tf.reshape(x_tensor,[-1,dim])\n",
    "\n",
    "\n",
    "\"\"\"\n",
    "DON'T MODIFY ANYTHING IN THIS CELL THAT IS BELOW THIS LINE\n",
    "\"\"\"\n",
    "tests.test_flatten(flatten)"
   ]
  },
  {
   "cell_type": "markdown",
   "metadata": {},
   "source": [
    "### Fully-Connected Layer\n",
    "Implement the `fully_conn` function to apply a fully connected layer to `x_tensor` with the shape (*Batch Size*, *num_outputs*). Shortcut option: you can use classes from the [TensorFlow Layers](https://www.tensorflow.org/api_docs/python/tf/layers) or [TensorFlow Layers (contrib)](https://www.tensorflow.org/api_guides/python/contrib.layers) packages for this layer. For more of a challenge, only use other TensorFlow packages."
   ]
  },
  {
   "cell_type": "code",
   "execution_count": 107,
   "metadata": {},
   "outputs": [
    {
     "name": "stdout",
     "output_type": "stream",
     "text": [
      "Tests Passed\n"
     ]
    }
   ],
   "source": [
    "def fully_conn(x_tensor, num_outputs):\n",
    "    \"\"\"\n",
    "    Apply a fully connected layer to x_tensor using weight and bias\n",
    "    : x_tensor: A 2-D tensor where the first dimension is batch size.\n",
    "    : num_outputs: The number of output that the new tensor should be.\n",
    "    : return: A 2-D tensor where the second dimension is num_outputs.\n",
    "    \"\"\"\n",
    "    # TODO: Implement Function\n",
    "    weight = tf.Variable(tf.truncated_normal([x_tensor.get_shape().as_list()[1], num_outputs],stddev=np.sqrt(2.0/10000)))\n",
    "    bias = tf.Variable(tf.zeros(num_outputs))\n",
    "    fully = tf.nn.bias_add(tf.matmul(x_tensor,weight),bias)\n",
    "    return tf.nn.relu(fully)\n",
    "\n",
    "\n",
    "\"\"\"\n",
    "DON'T MODIFY ANYTHING IN THIS CELL THAT IS BELOW THIS LINE\n",
    "\"\"\"\n",
    "tests.test_fully_conn(fully_conn)"
   ]
  },
  {
   "cell_type": "markdown",
   "metadata": {},
   "source": [
    "### Output Layer\n",
    "Implement the `output` function to apply a fully connected layer to `x_tensor` with the shape (*Batch Size*, *num_outputs*). Shortcut option: you can use classes from the [TensorFlow Layers](https://www.tensorflow.org/api_docs/python/tf/layers) or [TensorFlow Layers (contrib)](https://www.tensorflow.org/api_guides/python/contrib.layers) packages for this layer. For more of a challenge, only use other TensorFlow packages.\n",
    "\n",
    "**Note:** Activation, softmax, or cross entropy should **not** be applied to this."
   ]
  },
  {
   "cell_type": "code",
   "execution_count": 109,
   "metadata": {},
   "outputs": [
    {
     "name": "stdout",
     "output_type": "stream",
     "text": [
      "Tests Passed\n"
     ]
    }
   ],
   "source": [
    "def output(x_tensor, num_outputs):\n",
    "    \"\"\"\n",
    "    Apply a output layer to x_tensor using weight and bias\n",
    "    : x_tensor: A 2-D tensor where the first dimension is batch size.\n",
    "    : num_outputs: The number of output that the new tensor should be.\n",
    "    : return: A 2-D tensor where the second dimension is num_outputs.\n",
    "    \"\"\"\n",
    "    # TODO: Implement Function\n",
    "    weight = tf.Variable(tf.truncated_normal([x_tensor.get_shape().as_list()[1], num_outputs],stddev=np.sqrt(2.0/10000)))\n",
    "    bias = tf.Variable(tf.zeros(num_outputs))\n",
    "    return tf.nn.bias_add(tf.matmul(x_tensor,weight),bias)\n",
    "\n",
    "\n",
    "\"\"\"\n",
    "DON'T MODIFY ANYTHING IN THIS CELL THAT IS BELOW THIS LINE\n",
    "\"\"\"\n",
    "tests.test_output(output)"
   ]
  },
  {
   "cell_type": "markdown",
   "metadata": {},
   "source": [
    "### Create Convolutional Model\n",
    "Implement the function `conv_net` to create a convolutional neural network model. The function takes in a batch of images, `x`, and outputs logits.  Use the layers you created above to create this model:\n",
    "\n",
    "* Apply 1, 2, or 3 Convolution and Max Pool layers\n",
    "* Apply a Flatten Layer\n",
    "* Apply 1, 2, or 3 Fully Connected Layers\n",
    "* Apply an Output Layer\n",
    "* Return the output\n",
    "* Apply [TensorFlow's Dropout](https://www.tensorflow.org/api_docs/python/tf/nn/dropout) to one or more layers in the model using `keep_prob`. "
   ]
  },
  {
   "cell_type": "code",
   "execution_count": 89,
   "metadata": {},
   "outputs": [
    {
     "name": "stdout",
     "output_type": "stream",
     "text": [
      "Neural Network Built!\n"
     ]
    }
   ],
   "source": [
    "def conv_net(x, keep_prob):\n",
    "    \"\"\"\n",
    "    Create a convolutional neural network model\n",
    "    : x: Placeholder tensor that holds image data.\n",
    "    : keep_prob: Placeholder tensor that hold dropout keep probability.\n",
    "    : return: Tensor that represents logits\n",
    "    \"\"\"\n",
    "    # TODO: Apply 1, 2, or 3 Convolution and Max Pool layers\n",
    "    #    Play around with different number of outputs, kernel size and stride\n",
    "    # Function Definition from Above:\n",
    "    #    conv2d_maxpool(x_tensor, conv_num_outputs, conv_ksize, conv_strides, pool_ksize, pool_strides)\n",
    "    y = conv2d_maxpool(x, 4, [5, 5], [1, 1], [2, 2], [2, 2])\n",
    "    y = tf.nn.dropout(y, keep_prob)    \n",
    "    y = conv2d_maxpool(x, 16, [5, 5], [1, 1], [2, 2], [2, 2])\n",
    "\n",
    "    # TODO: Apply a Flatten Layer\n",
    "    # Function Definition from Above:\n",
    "    #   flatten(x_tensor)\n",
    "    y = flatten(y)\n",
    "\n",
    "    # TODO: Apply 1, 2, or 3 Fully Connected Layers\n",
    "    #    Play around with different number of outputs\n",
    "    # Function Definition from Above:\n",
    "    #   fully_conn(x_tensor, num_outputs)\n",
    "    y = fully_conn(y,100)\n",
    "    y = tf.nn.dropout(y,keep_prob)\n",
    "    # TODO: Apply an Output Layer\n",
    "    #    Set this to the number of classes\n",
    "    # Function Definition from Above:\n",
    "    #   output(x_tensor, num_outputs)\n",
    "    y = output(y,10)\n",
    "    \n",
    "    # TODO: return output\n",
    "    return y\n",
    "\n",
    "\n",
    "\"\"\"\n",
    "DON'T MODIFY ANYTHING IN THIS CELL THAT IS BELOW THIS LINE\n",
    "\"\"\"\n",
    "\n",
    "##############################\n",
    "## Build the Neural Network ##\n",
    "##############################\n",
    "\n",
    "# Remove previous weights, bias, inputs, etc..\n",
    "tf.reset_default_graph()\n",
    "\n",
    "# Inputs\n",
    "x = neural_net_image_input((32, 32, 3))\n",
    "y = neural_net_label_input(10)\n",
    "keep_prob = neural_net_keep_prob_input()\n",
    "\n",
    "# Model\n",
    "logits = conv_net(x, keep_prob)\n",
    "\n",
    "# Name logits Tensor, so that is can be loaded from disk after training\n",
    "logits = tf.identity(logits, name='logits')\n",
    "\n",
    "# Loss and Optimizer\n",
    "cost = tf.reduce_mean(tf.nn.softmax_cross_entropy_with_logits(logits=logits, labels=y))\n",
    "optimizer = tf.train.AdamOptimizer().minimize(cost)\n",
    "\n",
    "# Accuracy\n",
    "correct_pred = tf.equal(tf.argmax(logits, 1), tf.argmax(y, 1))\n",
    "accuracy = tf.reduce_mean(tf.cast(correct_pred, tf.float32), name='accuracy')\n",
    "\n",
    "tests.test_conv_net(conv_net)"
   ]
  },
  {
   "cell_type": "markdown",
   "metadata": {},
   "source": [
    "## Train the Neural Network\n",
    "### Single Optimization\n",
    "Implement the function `train_neural_network` to do a single optimization.  The optimization should use `optimizer` to optimize in `session` with a `feed_dict` of the following:\n",
    "* `x` for image input\n",
    "* `y` for labels\n",
    "* `keep_prob` for keep probability for dropout\n",
    "\n",
    "This function will be called for each batch, so `tf.global_variables_initializer()` has already been called.\n",
    "\n",
    "Note: Nothing needs to be returned. This function is only optimizing the neural network."
   ]
  },
  {
   "cell_type": "code",
   "execution_count": 90,
   "metadata": {},
   "outputs": [
    {
     "name": "stdout",
     "output_type": "stream",
     "text": [
      "Tests Passed\n"
     ]
    }
   ],
   "source": [
    "def train_neural_network(session, optimizer, keep_probability, feature_batch, label_batch):\n",
    "    \"\"\"\n",
    "    Optimize the session on a batch of images and labels\n",
    "    : session: Current TensorFlow session\n",
    "    : optimizer: TensorFlow optimizer function\n",
    "    : keep_probability: keep probability\n",
    "    : feature_batch: Batch of Numpy image data\n",
    "    : label_batch: Batch of Numpy label data\n",
    "    \"\"\"\n",
    "    # TODO: Implement Function\n",
    "    session.run(optimizer,feed_dict={\n",
    "        x:feature_batch,\n",
    "        y:label_batch,\n",
    "        keep_prob:keep_probability\n",
    "    })\n",
    "\n",
    "\n",
    "\"\"\"\n",
    "DON'T MODIFY ANYTHING IN THIS CELL THAT IS BELOW THIS LINE\n",
    "\"\"\"\n",
    "tests.test_train_nn(train_neural_network)"
   ]
  },
  {
   "cell_type": "markdown",
   "metadata": {},
   "source": [
    "### Show Stats\n",
    "Implement the function `print_stats` to print loss and validation accuracy.  Use the global variables `valid_features` and `valid_labels` to calculate validation accuracy.  Use a keep probability of `1.0` to calculate the loss and validation accuracy."
   ]
  },
  {
   "cell_type": "code",
   "execution_count": 91,
   "metadata": {
    "collapsed": true
   },
   "outputs": [],
   "source": [
    "def print_stats(session, feature_batch, label_batch, cost, accuracy):\n",
    "    \"\"\"\n",
    "    Print information about loss and validation accuracy\n",
    "    : session: Current TensorFlow session\n",
    "    : feature_batch: Batch of Numpy image data\n",
    "    : label_batch: Batch of Numpy label data\n",
    "    : cost: TensorFlow cost function\n",
    "    : accuracy: TensorFlow accuracy function\n",
    "    \"\"\"\n",
    "    # TODO: Implement Function\n",
    "    cost_result = session.run(cost,feed_dict={\n",
    "        x: feature_batch,\n",
    "        y: label_batch,\n",
    "        keep_prob: 1\n",
    "    })\n",
    "    accuracy_result = session.run(accuracy,feed_dict={\n",
    "        x: feature_batch,\n",
    "        y: label_batch,\n",
    "        keep_prob: 1\n",
    "    })\n",
    "    print(\"Cost: %s, Accuracy: %s\" % (cost_result, accuracy_result))\n"
   ]
  },
  {
   "cell_type": "markdown",
   "metadata": {},
   "source": [
    "\n",
    "### Hyperparameters\n",
    "Tune the following parameters:\n",
    "* Set `epochs` to the number of iterations until the network stops learning or start overfitting\n",
    "* Set `batch_size` to the highest number that your machine has memory for.  Most people set them to common sizes of memory:\n",
    " * 64\n",
    " * 128\n",
    " * 256\n",
    " * ...\n",
    "* Set `keep_probability` to the probability of keeping a node using dropout"
   ]
  },
  {
   "cell_type": "code",
   "execution_count": 111,
   "metadata": {
    "collapsed": true
   },
   "outputs": [],
   "source": [
    "# TODO: Tune Parameters\n",
    "epochs = 50\n",
    "batch_size = 256\n",
    "keep_probability = 0.5"
   ]
  },
  {
   "cell_type": "markdown",
   "metadata": {},
   "source": [
    "### Train on a Single CIFAR-10 Batch\n",
    "Instead of training the neural network on all the CIFAR-10 batches of data, let's use a single batch. This should save time while you iterate on the model to get a better accuracy.  Once the final validation accuracy is 50% or greater, run the model on all the data in the next section."
   ]
  },
  {
   "cell_type": "code",
   "execution_count": 112,
   "metadata": {},
   "outputs": [
    {
     "name": "stdout",
     "output_type": "stream",
     "text": [
      "Checking the Training on a Single Batch...\n",
      "Epoch  1, CIFAR-10 Batch 1:  Cost: 2.161, Accuracy: 0.225\n",
      "Epoch  2, CIFAR-10 Batch 1:  Cost: 1.9725, Accuracy: 0.35\n",
      "Epoch  3, CIFAR-10 Batch 1:  Cost: 1.82552, Accuracy: 0.425\n",
      "Epoch  4, CIFAR-10 Batch 1:  Cost: 1.70917, Accuracy: 0.5\n",
      "Epoch  5, CIFAR-10 Batch 1:  Cost: 1.56456, Accuracy: 0.6\n",
      "Epoch  6, CIFAR-10 Batch 1:  Cost: 1.45555, Accuracy: 0.6\n",
      "Epoch  7, CIFAR-10 Batch 1:  Cost: 1.36302, Accuracy: 0.625\n",
      "Epoch  8, CIFAR-10 Batch 1:  Cost: 1.27324, Accuracy: 0.65\n",
      "Epoch  9, CIFAR-10 Batch 1:  Cost: 1.19578, Accuracy: 0.675\n",
      "Epoch 10, CIFAR-10 Batch 1:  Cost: 1.05652, Accuracy: 0.75\n",
      "Epoch 11, CIFAR-10 Batch 1:  Cost: 0.989101, Accuracy: 0.75\n",
      "Epoch 12, CIFAR-10 Batch 1:  Cost: 0.97723, Accuracy: 0.775\n",
      "Epoch 13, CIFAR-10 Batch 1:  Cost: 0.899987, Accuracy: 0.75\n",
      "Epoch 14, CIFAR-10 Batch 1:  Cost: 0.848861, Accuracy: 0.775\n",
      "Epoch 15, CIFAR-10 Batch 1:  Cost: 0.812383, Accuracy: 0.8\n",
      "Epoch 16, CIFAR-10 Batch 1:  Cost: 0.884782, Accuracy: 0.775\n",
      "Epoch 17, CIFAR-10 Batch 1:  Cost: 0.742152, Accuracy: 0.8\n",
      "Epoch 18, CIFAR-10 Batch 1:  Cost: 0.697495, Accuracy: 0.8\n",
      "Epoch 19, CIFAR-10 Batch 1:  Cost: 0.659656, Accuracy: 0.825\n",
      "Epoch 20, CIFAR-10 Batch 1:  Cost: 0.653102, Accuracy: 0.825\n",
      "Epoch 21, CIFAR-10 Batch 1:  Cost: 0.572232, Accuracy: 0.85\n",
      "Epoch 22, CIFAR-10 Batch 1:  Cost: 0.539515, Accuracy: 0.875\n",
      "Epoch 23, CIFAR-10 Batch 1:  Cost: 0.532492, Accuracy: 0.825\n",
      "Epoch 24, CIFAR-10 Batch 1:  Cost: 0.474125, Accuracy: 0.9\n",
      "Epoch 25, CIFAR-10 Batch 1:  Cost: 0.497108, Accuracy: 0.875\n",
      "Epoch 26, CIFAR-10 Batch 1:  Cost: 0.492454, Accuracy: 0.825\n",
      "Epoch 27, CIFAR-10 Batch 1:  Cost: 0.420205, Accuracy: 0.925\n",
      "Epoch 28, CIFAR-10 Batch 1:  Cost: 0.414918, Accuracy: 0.9\n",
      "Epoch 29, CIFAR-10 Batch 1:  Cost: 0.388816, Accuracy: 0.9\n",
      "Epoch 30, CIFAR-10 Batch 1:  Cost: 0.342088, Accuracy: 0.9\n",
      "Epoch 31, CIFAR-10 Batch 1:  Cost: 0.344479, Accuracy: 0.925\n",
      "Epoch 32, CIFAR-10 Batch 1:  Cost: 0.290558, Accuracy: 0.925\n",
      "Epoch 33, CIFAR-10 Batch 1:  Cost: 0.275162, Accuracy: 0.95\n",
      "Epoch 34, CIFAR-10 Batch 1:  Cost: 0.268546, Accuracy: 0.975\n",
      "Epoch 35, CIFAR-10 Batch 1:  Cost: 0.25124, Accuracy: 0.95\n",
      "Epoch 36, CIFAR-10 Batch 1:  Cost: 0.226632, Accuracy: 0.975\n",
      "Epoch 37, CIFAR-10 Batch 1:  Cost: 0.219456, Accuracy: 0.975\n",
      "Epoch 38, CIFAR-10 Batch 1:  Cost: 0.208631, Accuracy: 0.975\n",
      "Epoch 39, CIFAR-10 Batch 1:  Cost: 0.186153, Accuracy: 0.975\n",
      "Epoch 40, CIFAR-10 Batch 1:  Cost: 0.205273, Accuracy: 0.975\n",
      "Epoch 41, CIFAR-10 Batch 1:  Cost: 0.182425, Accuracy: 0.975\n",
      "Epoch 42, CIFAR-10 Batch 1:  Cost: 0.162305, Accuracy: 0.975\n",
      "Epoch 43, CIFAR-10 Batch 1:  Cost: 0.163504, Accuracy: 0.975\n",
      "Epoch 44, CIFAR-10 Batch 1:  Cost: 0.163953, Accuracy: 0.975\n",
      "Epoch 45, CIFAR-10 Batch 1:  Cost: 0.166377, Accuracy: 0.975\n",
      "Epoch 46, CIFAR-10 Batch 1:  Cost: 0.163503, Accuracy: 0.975\n",
      "Epoch 47, CIFAR-10 Batch 1:  Cost: 0.154726, Accuracy: 1.0\n",
      "Epoch 48, CIFAR-10 Batch 1:  Cost: 0.12645, Accuracy: 0.975\n",
      "Epoch 49, CIFAR-10 Batch 1:  Cost: 0.122663, Accuracy: 0.975\n",
      "Epoch 50, CIFAR-10 Batch 1:  Cost: 0.125513, Accuracy: 1.0\n"
     ]
    }
   ],
   "source": [
    "\"\"\"\n",
    "DON'T MODIFY ANYTHING IN THIS CELL\n",
    "\"\"\"\n",
    "print('Checking the Training on a Single Batch...')\n",
    "with tf.Session() as sess:\n",
    "    # Initializing the variables\n",
    "    sess.run(tf.global_variables_initializer())\n",
    "    \n",
    "    # Training cycle\n",
    "    for epoch in range(epochs):\n",
    "        batch_i = 1\n",
    "        for batch_features, batch_labels in helper.load_preprocess_training_batch(batch_i, batch_size):\n",
    "            train_neural_network(sess, optimizer, keep_probability, batch_features, batch_labels)\n",
    "        print('Epoch {:>2}, CIFAR-10 Batch {}:  '.format(epoch + 1, batch_i), end='')\n",
    "        print_stats(sess, batch_features, batch_labels, cost, accuracy)"
   ]
  },
  {
   "cell_type": "markdown",
   "metadata": {},
   "source": [
    "### Fully Train the Model\n",
    "Now that you got a good accuracy with a single CIFAR-10 batch, try it with all five batches."
   ]
  },
  {
   "cell_type": "code",
   "execution_count": 113,
   "metadata": {},
   "outputs": [
    {
     "name": "stdout",
     "output_type": "stream",
     "text": [
      "Training...\n",
      "Epoch  1, CIFAR-10 Batch 1:  Cost: 2.12334, Accuracy: 0.3\n",
      "Epoch  1, CIFAR-10 Batch 2:  Cost: 1.88768, Accuracy: 0.45\n",
      "Epoch  1, CIFAR-10 Batch 3:  Cost: 1.63302, Accuracy: 0.5\n",
      "Epoch  1, CIFAR-10 Batch 4:  Cost: 1.67143, Accuracy: 0.35\n",
      "Epoch  1, CIFAR-10 Batch 5:  Cost: 1.58928, Accuracy: 0.5\n",
      "Epoch  2, CIFAR-10 Batch 1:  Cost: 1.65538, Accuracy: 0.475\n",
      "Epoch  2, CIFAR-10 Batch 2:  Cost: 1.40941, Accuracy: 0.475\n",
      "Epoch  2, CIFAR-10 Batch 3:  Cost: 1.25376, Accuracy: 0.55\n",
      "Epoch  2, CIFAR-10 Batch 4:  Cost: 1.39756, Accuracy: 0.475\n",
      "Epoch  2, CIFAR-10 Batch 5:  Cost: 1.33896, Accuracy: 0.6\n",
      "Epoch  3, CIFAR-10 Batch 1:  Cost: 1.45926, Accuracy: 0.625\n",
      "Epoch  3, CIFAR-10 Batch 2:  Cost: 1.23622, Accuracy: 0.475\n",
      "Epoch  3, CIFAR-10 Batch 3:  Cost: 1.05782, Accuracy: 0.625\n",
      "Epoch  3, CIFAR-10 Batch 4:  Cost: 1.21436, Accuracy: 0.7\n",
      "Epoch  3, CIFAR-10 Batch 5:  Cost: 1.20989, Accuracy: 0.7\n",
      "Epoch  4, CIFAR-10 Batch 1:  Cost: 1.28754, Accuracy: 0.625\n",
      "Epoch  4, CIFAR-10 Batch 2:  Cost: 1.08643, Accuracy: 0.6\n",
      "Epoch  4, CIFAR-10 Batch 3:  Cost: 0.920524, Accuracy: 0.75\n",
      "Epoch  4, CIFAR-10 Batch 4:  Cost: 1.12948, Accuracy: 0.7\n",
      "Epoch  4, CIFAR-10 Batch 5:  Cost: 1.09376, Accuracy: 0.75\n",
      "Epoch  5, CIFAR-10 Batch 1:  Cost: 1.14556, Accuracy: 0.675\n",
      "Epoch  5, CIFAR-10 Batch 2:  Cost: 1.00433, Accuracy: 0.625\n",
      "Epoch  5, CIFAR-10 Batch 3:  Cost: 0.841072, Accuracy: 0.8\n",
      "Epoch  5, CIFAR-10 Batch 4:  Cost: 0.99405, Accuracy: 0.625\n",
      "Epoch  5, CIFAR-10 Batch 5:  Cost: 0.973914, Accuracy: 0.725\n",
      "Epoch  6, CIFAR-10 Batch 1:  Cost: 1.14143, Accuracy: 0.65\n",
      "Epoch  6, CIFAR-10 Batch 2:  Cost: 0.909087, Accuracy: 0.7\n",
      "Epoch  6, CIFAR-10 Batch 3:  Cost: 0.818968, Accuracy: 0.8\n",
      "Epoch  6, CIFAR-10 Batch 4:  Cost: 0.912557, Accuracy: 0.7\n",
      "Epoch  6, CIFAR-10 Batch 5:  Cost: 0.889113, Accuracy: 0.75\n",
      "Epoch  7, CIFAR-10 Batch 1:  Cost: 1.08093, Accuracy: 0.65\n",
      "Epoch  7, CIFAR-10 Batch 2:  Cost: 0.846626, Accuracy: 0.725\n",
      "Epoch  7, CIFAR-10 Batch 3:  Cost: 0.75231, Accuracy: 0.825\n",
      "Epoch  7, CIFAR-10 Batch 4:  Cost: 0.871037, Accuracy: 0.75\n",
      "Epoch  7, CIFAR-10 Batch 5:  Cost: 0.808373, Accuracy: 0.825\n",
      "Epoch  8, CIFAR-10 Batch 1:  Cost: 0.951383, Accuracy: 0.725\n",
      "Epoch  8, CIFAR-10 Batch 2:  Cost: 0.771032, Accuracy: 0.775\n",
      "Epoch  8, CIFAR-10 Batch 3:  Cost: 0.691079, Accuracy: 0.875\n",
      "Epoch  8, CIFAR-10 Batch 4:  Cost: 0.818376, Accuracy: 0.75\n",
      "Epoch  8, CIFAR-10 Batch 5:  Cost: 0.74626, Accuracy: 0.85\n",
      "Epoch  9, CIFAR-10 Batch 1:  Cost: 0.892708, Accuracy: 0.725\n",
      "Epoch  9, CIFAR-10 Batch 2:  Cost: 0.708316, Accuracy: 0.825\n",
      "Epoch  9, CIFAR-10 Batch 3:  Cost: 0.616231, Accuracy: 0.85\n",
      "Epoch  9, CIFAR-10 Batch 4:  Cost: 0.778022, Accuracy: 0.775\n",
      "Epoch  9, CIFAR-10 Batch 5:  Cost: 0.679295, Accuracy: 0.85\n",
      "Epoch 10, CIFAR-10 Batch 1:  Cost: 0.842728, Accuracy: 0.75\n",
      "Epoch 10, CIFAR-10 Batch 2:  Cost: 0.660215, Accuracy: 0.875\n",
      "Epoch 10, CIFAR-10 Batch 3:  Cost: 0.594796, Accuracy: 0.8\n",
      "Epoch 10, CIFAR-10 Batch 4:  Cost: 0.661771, Accuracy: 0.825\n",
      "Epoch 10, CIFAR-10 Batch 5:  Cost: 0.700211, Accuracy: 0.85\n",
      "Epoch 11, CIFAR-10 Batch 1:  Cost: 0.803572, Accuracy: 0.75\n",
      "Epoch 11, CIFAR-10 Batch 2:  Cost: 0.652878, Accuracy: 0.825\n",
      "Epoch 11, CIFAR-10 Batch 3:  Cost: 0.517139, Accuracy: 0.9\n",
      "Epoch 11, CIFAR-10 Batch 4:  Cost: 0.624487, Accuracy: 0.875\n",
      "Epoch 11, CIFAR-10 Batch 5:  Cost: 0.609183, Accuracy: 0.875\n",
      "Epoch 12, CIFAR-10 Batch 1:  Cost: 0.721091, Accuracy: 0.775\n",
      "Epoch 12, CIFAR-10 Batch 2:  Cost: 0.646413, Accuracy: 0.825\n",
      "Epoch 12, CIFAR-10 Batch 3:  Cost: 0.485757, Accuracy: 0.875\n",
      "Epoch 12, CIFAR-10 Batch 4:  Cost: 0.594085, Accuracy: 0.85\n",
      "Epoch 12, CIFAR-10 Batch 5:  Cost: 0.617367, Accuracy: 0.875\n",
      "Epoch 13, CIFAR-10 Batch 1:  Cost: 0.674026, Accuracy: 0.8\n",
      "Epoch 13, CIFAR-10 Batch 2:  Cost: 0.575782, Accuracy: 0.875\n",
      "Epoch 13, CIFAR-10 Batch 3:  Cost: 0.473054, Accuracy: 0.9\n",
      "Epoch 13, CIFAR-10 Batch 4:  Cost: 0.546639, Accuracy: 0.875\n",
      "Epoch 13, CIFAR-10 Batch 5:  Cost: 0.574455, Accuracy: 0.9\n",
      "Epoch 14, CIFAR-10 Batch 1:  Cost: 0.670795, Accuracy: 0.775\n",
      "Epoch 14, CIFAR-10 Batch 2:  Cost: 0.514949, Accuracy: 0.95\n",
      "Epoch 14, CIFAR-10 Batch 3:  Cost: 0.434104, Accuracy: 0.9\n",
      "Epoch 14, CIFAR-10 Batch 4:  Cost: 0.533809, Accuracy: 0.875\n",
      "Epoch 14, CIFAR-10 Batch 5:  Cost: 0.514901, Accuracy: 0.925\n",
      "Epoch 15, CIFAR-10 Batch 1:  Cost: 0.576947, Accuracy: 0.825\n",
      "Epoch 15, CIFAR-10 Batch 2:  Cost: 0.478378, Accuracy: 0.95\n",
      "Epoch 15, CIFAR-10 Batch 3:  Cost: 0.432329, Accuracy: 0.9\n",
      "Epoch 15, CIFAR-10 Batch 4:  Cost: 0.513719, Accuracy: 0.9\n",
      "Epoch 15, CIFAR-10 Batch 5:  Cost: 0.495045, Accuracy: 0.9\n",
      "Epoch 16, CIFAR-10 Batch 1:  Cost: 0.595257, Accuracy: 0.85\n",
      "Epoch 16, CIFAR-10 Batch 2:  Cost: 0.432999, Accuracy: 0.975\n",
      "Epoch 16, CIFAR-10 Batch 3:  Cost: 0.404385, Accuracy: 0.9\n",
      "Epoch 16, CIFAR-10 Batch 4:  Cost: 0.462553, Accuracy: 0.9\n",
      "Epoch 16, CIFAR-10 Batch 5:  Cost: 0.468132, Accuracy: 0.9\n",
      "Epoch 17, CIFAR-10 Batch 1:  Cost: 0.530531, Accuracy: 0.875\n",
      "Epoch 17, CIFAR-10 Batch 2:  Cost: 0.412792, Accuracy: 1.0\n",
      "Epoch 17, CIFAR-10 Batch 3:  Cost: 0.381745, Accuracy: 0.9\n",
      "Epoch 17, CIFAR-10 Batch 4:  Cost: 0.480036, Accuracy: 0.875\n",
      "Epoch 17, CIFAR-10 Batch 5:  Cost: 0.486752, Accuracy: 0.9\n",
      "Epoch 18, CIFAR-10 Batch 1:  Cost: 0.530686, Accuracy: 0.875\n",
      "Epoch 18, CIFAR-10 Batch 2:  Cost: 0.429042, Accuracy: 0.95\n",
      "Epoch 18, CIFAR-10 Batch 3:  Cost: 0.361699, Accuracy: 0.9\n",
      "Epoch 18, CIFAR-10 Batch 4:  Cost: 0.455677, Accuracy: 0.925\n",
      "Epoch 18, CIFAR-10 Batch 5:  Cost: 0.418721, Accuracy: 0.925\n",
      "Epoch 19, CIFAR-10 Batch 1:  Cost: 0.509682, Accuracy: 0.875\n",
      "Epoch 19, CIFAR-10 Batch 2:  Cost: 0.368467, Accuracy: 0.925\n",
      "Epoch 19, CIFAR-10 Batch 3:  Cost: 0.358953, Accuracy: 0.9\n",
      "Epoch 19, CIFAR-10 Batch 4:  Cost: 0.412945, Accuracy: 0.925\n",
      "Epoch 19, CIFAR-10 Batch 5:  Cost: 0.401797, Accuracy: 0.975\n",
      "Epoch 20, CIFAR-10 Batch 1:  Cost: 0.48656, Accuracy: 0.85\n",
      "Epoch 20, CIFAR-10 Batch 2:  Cost: 0.3587, Accuracy: 0.975\n",
      "Epoch 20, CIFAR-10 Batch 3:  Cost: 0.380829, Accuracy: 0.925\n",
      "Epoch 20, CIFAR-10 Batch 4:  Cost: 0.417979, Accuracy: 0.95\n",
      "Epoch 20, CIFAR-10 Batch 5:  Cost: 0.340053, Accuracy: 0.95\n",
      "Epoch 21, CIFAR-10 Batch 1:  Cost: 0.472544, Accuracy: 0.875\n",
      "Epoch 21, CIFAR-10 Batch 2:  Cost: 0.348518, Accuracy: 0.95\n",
      "Epoch 21, CIFAR-10 Batch 3:  Cost: 0.357121, Accuracy: 0.925\n",
      "Epoch 21, CIFAR-10 Batch 4:  Cost: 0.425272, Accuracy: 0.875\n",
      "Epoch 21, CIFAR-10 Batch 5:  Cost: 0.354878, Accuracy: 0.925\n",
      "Epoch 22, CIFAR-10 Batch 1:  Cost: 0.506917, Accuracy: 0.85\n",
      "Epoch 22, CIFAR-10 Batch 2:  Cost: 0.329479, Accuracy: 0.95\n",
      "Epoch 22, CIFAR-10 Batch 3:  Cost: 0.309848, Accuracy: 0.95\n",
      "Epoch 22, CIFAR-10 Batch 4:  Cost: 0.396238, Accuracy: 0.9\n",
      "Epoch 22, CIFAR-10 Batch 5:  Cost: 0.310977, Accuracy: 0.95\n",
      "Epoch 23, CIFAR-10 Batch 1:  Cost: 0.481145, Accuracy: 0.825\n",
      "Epoch 23, CIFAR-10 Batch 2:  Cost: 0.289837, Accuracy: 0.975\n",
      "Epoch 23, CIFAR-10 Batch 3:  Cost: 0.308975, Accuracy: 0.95\n",
      "Epoch 23, CIFAR-10 Batch 4:  Cost: 0.376528, Accuracy: 0.9\n",
      "Epoch 23, CIFAR-10 Batch 5:  Cost: 0.314092, Accuracy: 0.95\n",
      "Epoch 24, CIFAR-10 Batch 1:  Cost: 0.406235, Accuracy: 0.875\n",
      "Epoch 24, CIFAR-10 Batch 2:  Cost: 0.272104, Accuracy: 1.0\n",
      "Epoch 24, CIFAR-10 Batch 3:  Cost: 0.268486, Accuracy: 0.975\n",
      "Epoch 24, CIFAR-10 Batch 4:  Cost: 0.340786, Accuracy: 0.95\n",
      "Epoch 24, CIFAR-10 Batch 5:  Cost: 0.290043, Accuracy: 0.975\n",
      "Epoch 25, CIFAR-10 Batch 1:  Cost: 0.391453, Accuracy: 0.875\n",
      "Epoch 25, CIFAR-10 Batch 2:  Cost: 0.275806, Accuracy: 0.975\n",
      "Epoch 25, CIFAR-10 Batch 3:  Cost: 0.24894, Accuracy: 0.975\n",
      "Epoch 25, CIFAR-10 Batch 4:  Cost: 0.32476, Accuracy: 0.95\n",
      "Epoch 25, CIFAR-10 Batch 5:  Cost: 0.290425, Accuracy: 0.95\n",
      "Epoch 26, CIFAR-10 Batch 1:  Cost: 0.423581, Accuracy: 0.9\n",
      "Epoch 26, CIFAR-10 Batch 2:  Cost: 0.269788, Accuracy: 0.95\n",
      "Epoch 26, CIFAR-10 Batch 3:  Cost: 0.234351, Accuracy: 0.975\n",
      "Epoch 26, CIFAR-10 Batch 4:  Cost: 0.321391, Accuracy: 0.925\n",
      "Epoch 26, CIFAR-10 Batch 5:  Cost: 0.291736, Accuracy: 0.95\n",
      "Epoch 27, CIFAR-10 Batch 1:  Cost: 0.345146, Accuracy: 0.95\n",
      "Epoch 27, CIFAR-10 Batch 2:  Cost: 0.242544, Accuracy: 0.975\n",
      "Epoch 27, CIFAR-10 Batch 3:  Cost: 0.226404, Accuracy: 0.95\n",
      "Epoch 27, CIFAR-10 Batch 4:  Cost: 0.304412, Accuracy: 0.95\n",
      "Epoch 27, CIFAR-10 Batch 5:  Cost: 0.286579, Accuracy: 0.975\n",
      "Epoch 28, CIFAR-10 Batch 1:  Cost: 0.349265, Accuracy: 0.875\n",
      "Epoch 28, CIFAR-10 Batch 2:  Cost: 0.247698, Accuracy: 0.975\n"
     ]
    },
    {
     "name": "stdout",
     "output_type": "stream",
     "text": [
      "Epoch 28, CIFAR-10 Batch 3:  Cost: 0.243107, Accuracy: 0.975\n",
      "Epoch 28, CIFAR-10 Batch 4:  Cost: 0.30263, Accuracy: 0.975\n",
      "Epoch 28, CIFAR-10 Batch 5:  Cost: 0.294533, Accuracy: 0.95\n",
      "Epoch 29, CIFAR-10 Batch 1:  Cost: 0.304931, Accuracy: 0.925\n",
      "Epoch 29, CIFAR-10 Batch 2:  Cost: 0.228166, Accuracy: 0.975\n",
      "Epoch 29, CIFAR-10 Batch 3:  Cost: 0.201979, Accuracy: 0.95\n",
      "Epoch 29, CIFAR-10 Batch 4:  Cost: 0.262477, Accuracy: 0.95\n",
      "Epoch 29, CIFAR-10 Batch 5:  Cost: 0.279995, Accuracy: 0.95\n",
      "Epoch 30, CIFAR-10 Batch 1:  Cost: 0.319079, Accuracy: 0.925\n",
      "Epoch 30, CIFAR-10 Batch 2:  Cost: 0.238818, Accuracy: 0.975\n",
      "Epoch 30, CIFAR-10 Batch 3:  Cost: 0.219248, Accuracy: 0.95\n",
      "Epoch 30, CIFAR-10 Batch 4:  Cost: 0.267, Accuracy: 0.975\n",
      "Epoch 30, CIFAR-10 Batch 5:  Cost: 0.229112, Accuracy: 0.95\n",
      "Epoch 31, CIFAR-10 Batch 1:  Cost: 0.314922, Accuracy: 0.9\n",
      "Epoch 31, CIFAR-10 Batch 2:  Cost: 0.212467, Accuracy: 0.975\n",
      "Epoch 31, CIFAR-10 Batch 3:  Cost: 0.207658, Accuracy: 0.975\n",
      "Epoch 31, CIFAR-10 Batch 4:  Cost: 0.253244, Accuracy: 0.95\n",
      "Epoch 31, CIFAR-10 Batch 5:  Cost: 0.235809, Accuracy: 0.95\n",
      "Epoch 32, CIFAR-10 Batch 1:  Cost: 0.291046, Accuracy: 0.95\n",
      "Epoch 32, CIFAR-10 Batch 2:  Cost: 0.206429, Accuracy: 0.975\n",
      "Epoch 32, CIFAR-10 Batch 3:  Cost: 0.180058, Accuracy: 1.0\n",
      "Epoch 32, CIFAR-10 Batch 4:  Cost: 0.256742, Accuracy: 0.975\n",
      "Epoch 32, CIFAR-10 Batch 5:  Cost: 0.214163, Accuracy: 0.975\n",
      "Epoch 33, CIFAR-10 Batch 1:  Cost: 0.284553, Accuracy: 0.925\n",
      "Epoch 33, CIFAR-10 Batch 2:  Cost: 0.180238, Accuracy: 1.0\n",
      "Epoch 33, CIFAR-10 Batch 3:  Cost: 0.176905, Accuracy: 0.975\n",
      "Epoch 33, CIFAR-10 Batch 4:  Cost: 0.239736, Accuracy: 0.975\n",
      "Epoch 33, CIFAR-10 Batch 5:  Cost: 0.232129, Accuracy: 0.975\n",
      "Epoch 34, CIFAR-10 Batch 1:  Cost: 0.275322, Accuracy: 0.975\n",
      "Epoch 34, CIFAR-10 Batch 2:  Cost: 0.184727, Accuracy: 0.975\n",
      "Epoch 34, CIFAR-10 Batch 3:  Cost: 0.17333, Accuracy: 0.975\n",
      "Epoch 34, CIFAR-10 Batch 4:  Cost: 0.231663, Accuracy: 0.975\n",
      "Epoch 34, CIFAR-10 Batch 5:  Cost: 0.194754, Accuracy: 1.0\n",
      "Epoch 35, CIFAR-10 Batch 1:  Cost: 0.242167, Accuracy: 1.0\n",
      "Epoch 35, CIFAR-10 Batch 2:  Cost: 0.165995, Accuracy: 1.0\n",
      "Epoch 35, CIFAR-10 Batch 3:  Cost: 0.165128, Accuracy: 1.0\n",
      "Epoch 35, CIFAR-10 Batch 4:  Cost: 0.20472, Accuracy: 1.0\n",
      "Epoch 35, CIFAR-10 Batch 5:  Cost: 0.194801, Accuracy: 1.0\n",
      "Epoch 36, CIFAR-10 Batch 1:  Cost: 0.236716, Accuracy: 0.95\n",
      "Epoch 36, CIFAR-10 Batch 2:  Cost: 0.166218, Accuracy: 1.0\n",
      "Epoch 36, CIFAR-10 Batch 3:  Cost: 0.159533, Accuracy: 1.0\n",
      "Epoch 36, CIFAR-10 Batch 4:  Cost: 0.207368, Accuracy: 1.0\n",
      "Epoch 36, CIFAR-10 Batch 5:  Cost: 0.173613, Accuracy: 1.0\n",
      "Epoch 37, CIFAR-10 Batch 1:  Cost: 0.230411, Accuracy: 1.0\n",
      "Epoch 37, CIFAR-10 Batch 2:  Cost: 0.146815, Accuracy: 1.0\n",
      "Epoch 37, CIFAR-10 Batch 3:  Cost: 0.141447, Accuracy: 1.0\n",
      "Epoch 37, CIFAR-10 Batch 4:  Cost: 0.195387, Accuracy: 0.975\n",
      "Epoch 37, CIFAR-10 Batch 5:  Cost: 0.158061, Accuracy: 1.0\n",
      "Epoch 38, CIFAR-10 Batch 1:  Cost: 0.227834, Accuracy: 1.0\n",
      "Epoch 38, CIFAR-10 Batch 2:  Cost: 0.158939, Accuracy: 1.0\n",
      "Epoch 38, CIFAR-10 Batch 3:  Cost: 0.141141, Accuracy: 1.0\n",
      "Epoch 38, CIFAR-10 Batch 4:  Cost: 0.1884, Accuracy: 0.975\n",
      "Epoch 38, CIFAR-10 Batch 5:  Cost: 0.169709, Accuracy: 1.0\n",
      "Epoch 39, CIFAR-10 Batch 1:  Cost: 0.205065, Accuracy: 0.975\n",
      "Epoch 39, CIFAR-10 Batch 2:  Cost: 0.115257, Accuracy: 1.0\n",
      "Epoch 39, CIFAR-10 Batch 3:  Cost: 0.122971, Accuracy: 1.0\n",
      "Epoch 39, CIFAR-10 Batch 4:  Cost: 0.194641, Accuracy: 1.0\n",
      "Epoch 39, CIFAR-10 Batch 5:  Cost: 0.161998, Accuracy: 1.0\n",
      "Epoch 40, CIFAR-10 Batch 1:  Cost: 0.190329, Accuracy: 0.975\n",
      "Epoch 40, CIFAR-10 Batch 2:  Cost: 0.149309, Accuracy: 1.0\n",
      "Epoch 40, CIFAR-10 Batch 3:  Cost: 0.122239, Accuracy: 1.0\n",
      "Epoch 40, CIFAR-10 Batch 4:  Cost: 0.163841, Accuracy: 0.975\n",
      "Epoch 40, CIFAR-10 Batch 5:  Cost: 0.162553, Accuracy: 0.975\n",
      "Epoch 41, CIFAR-10 Batch 1:  Cost: 0.210294, Accuracy: 0.975\n",
      "Epoch 41, CIFAR-10 Batch 2:  Cost: 0.146235, Accuracy: 1.0\n",
      "Epoch 41, CIFAR-10 Batch 3:  Cost: 0.119812, Accuracy: 1.0\n",
      "Epoch 41, CIFAR-10 Batch 4:  Cost: 0.158135, Accuracy: 0.975\n",
      "Epoch 41, CIFAR-10 Batch 5:  Cost: 0.171804, Accuracy: 1.0\n",
      "Epoch 42, CIFAR-10 Batch 1:  Cost: 0.181466, Accuracy: 1.0\n",
      "Epoch 42, CIFAR-10 Batch 2:  Cost: 0.121094, Accuracy: 1.0\n",
      "Epoch 42, CIFAR-10 Batch 3:  Cost: 0.135502, Accuracy: 1.0\n",
      "Epoch 42, CIFAR-10 Batch 4:  Cost: 0.14822, Accuracy: 1.0\n",
      "Epoch 42, CIFAR-10 Batch 5:  Cost: 0.156198, Accuracy: 1.0\n",
      "Epoch 43, CIFAR-10 Batch 1:  Cost: 0.197729, Accuracy: 0.975\n",
      "Epoch 43, CIFAR-10 Batch 2:  Cost: 0.137155, Accuracy: 1.0\n",
      "Epoch 43, CIFAR-10 Batch 3:  Cost: 0.110144, Accuracy: 1.0\n",
      "Epoch 43, CIFAR-10 Batch 4:  Cost: 0.146344, Accuracy: 1.0\n",
      "Epoch 43, CIFAR-10 Batch 5:  Cost: 0.150323, Accuracy: 1.0\n",
      "Epoch 44, CIFAR-10 Batch 1:  Cost: 0.184767, Accuracy: 1.0\n",
      "Epoch 44, CIFAR-10 Batch 2:  Cost: 0.11952, Accuracy: 1.0\n",
      "Epoch 44, CIFAR-10 Batch 3:  Cost: 0.142394, Accuracy: 1.0\n",
      "Epoch 44, CIFAR-10 Batch 4:  Cost: 0.144915, Accuracy: 0.975\n",
      "Epoch 44, CIFAR-10 Batch 5:  Cost: 0.133768, Accuracy: 1.0\n",
      "Epoch 45, CIFAR-10 Batch 1:  Cost: 0.159829, Accuracy: 1.0\n",
      "Epoch 45, CIFAR-10 Batch 2:  Cost: 0.122637, Accuracy: 1.0\n",
      "Epoch 45, CIFAR-10 Batch 3:  Cost: 0.104933, Accuracy: 1.0\n",
      "Epoch 45, CIFAR-10 Batch 4:  Cost: 0.135809, Accuracy: 1.0\n",
      "Epoch 45, CIFAR-10 Batch 5:  Cost: 0.122813, Accuracy: 1.0\n",
      "Epoch 46, CIFAR-10 Batch 1:  Cost: 0.157349, Accuracy: 1.0\n",
      "Epoch 46, CIFAR-10 Batch 2:  Cost: 0.107642, Accuracy: 1.0\n",
      "Epoch 46, CIFAR-10 Batch 3:  Cost: 0.0923569, Accuracy: 1.0\n",
      "Epoch 46, CIFAR-10 Batch 4:  Cost: 0.137457, Accuracy: 1.0\n",
      "Epoch 46, CIFAR-10 Batch 5:  Cost: 0.112997, Accuracy: 1.0\n",
      "Epoch 47, CIFAR-10 Batch 1:  Cost: 0.162352, Accuracy: 1.0\n",
      "Epoch 47, CIFAR-10 Batch 2:  Cost: 0.111854, Accuracy: 1.0\n",
      "Epoch 47, CIFAR-10 Batch 3:  Cost: 0.104663, Accuracy: 1.0\n",
      "Epoch 47, CIFAR-10 Batch 4:  Cost: 0.147943, Accuracy: 1.0\n",
      "Epoch 47, CIFAR-10 Batch 5:  Cost: 0.108142, Accuracy: 1.0\n",
      "Epoch 48, CIFAR-10 Batch 1:  Cost: 0.154858, Accuracy: 1.0\n",
      "Epoch 48, CIFAR-10 Batch 2:  Cost: 0.0833754, Accuracy: 1.0\n",
      "Epoch 48, CIFAR-10 Batch 3:  Cost: 0.100039, Accuracy: 1.0\n",
      "Epoch 48, CIFAR-10 Batch 4:  Cost: 0.130644, Accuracy: 1.0\n",
      "Epoch 48, CIFAR-10 Batch 5:  Cost: 0.113228, Accuracy: 1.0\n",
      "Epoch 49, CIFAR-10 Batch 1:  Cost: 0.166467, Accuracy: 1.0\n",
      "Epoch 49, CIFAR-10 Batch 2:  Cost: 0.095547, Accuracy: 1.0\n",
      "Epoch 49, CIFAR-10 Batch 3:  Cost: 0.0965346, Accuracy: 1.0\n",
      "Epoch 49, CIFAR-10 Batch 4:  Cost: 0.123551, Accuracy: 1.0\n",
      "Epoch 49, CIFAR-10 Batch 5:  Cost: 0.101857, Accuracy: 1.0\n",
      "Epoch 50, CIFAR-10 Batch 1:  Cost: 0.147467, Accuracy: 1.0\n",
      "Epoch 50, CIFAR-10 Batch 2:  Cost: 0.0830547, Accuracy: 1.0\n",
      "Epoch 50, CIFAR-10 Batch 3:  Cost: 0.0941731, Accuracy: 1.0\n",
      "Epoch 50, CIFAR-10 Batch 4:  Cost: 0.127142, Accuracy: 1.0\n",
      "Epoch 50, CIFAR-10 Batch 5:  Cost: 0.10637, Accuracy: 1.0\n"
     ]
    }
   ],
   "source": [
    "\"\"\"\n",
    "DON'T MODIFY ANYTHING IN THIS CELL\n",
    "\"\"\"\n",
    "save_model_path = './image_classification'\n",
    "\n",
    "print('Training...')\n",
    "with tf.Session() as sess:\n",
    "    # Initializing the variables\n",
    "    sess.run(tf.global_variables_initializer())\n",
    "    \n",
    "    # Training cycle\n",
    "    for epoch in range(epochs):\n",
    "        # Loop over all batches\n",
    "        n_batches = 5\n",
    "        for batch_i in range(1, n_batches + 1):\n",
    "            for batch_features, batch_labels in helper.load_preprocess_training_batch(batch_i, batch_size):\n",
    "                train_neural_network(sess, optimizer, keep_probability, batch_features, batch_labels)\n",
    "            print('Epoch {:>2}, CIFAR-10 Batch {}:  '.format(epoch + 1, batch_i), end='')\n",
    "            print_stats(sess, batch_features, batch_labels, cost, accuracy)\n",
    "            \n",
    "    # Save Model\n",
    "    saver = tf.train.Saver()\n",
    "    save_path = saver.save(sess, save_model_path)"
   ]
  },
  {
   "cell_type": "markdown",
   "metadata": {},
   "source": [
    "# Checkpoint\n",
    "The model has been saved to disk.\n",
    "## Test Model\n",
    "Test your model against the test dataset.  This will be your final accuracy. You should have an accuracy greater than 50%. If you don't, keep tweaking the model architecture and parameters."
   ]
  },
  {
   "cell_type": "code",
   "execution_count": 114,
   "metadata": {},
   "outputs": [
    {
     "name": "stdout",
     "output_type": "stream",
     "text": [
      "INFO:tensorflow:Restoring parameters from ./image_classification\n",
      "Testing Accuracy: 0.64140625\n",
      "\n"
     ]
    },
    {
     "data": {
      "image/png": "[encoded data removed]",
      "text/plain": [
       "<matplotlib.figure.Figure at 0x7f3fcc878dd8>"
      ]
     },
     "metadata": {
      "image/png": {
       "height": 319,
       "width": 355
      }
     },
     "output_type": "display_data"
    }
   ],
   "source": [
    "\"\"\"\n",
    "DON'T MODIFY ANYTHING IN THIS CELL\n",
    "\"\"\"\n",
    "%matplotlib inline\n",
    "%config InlineBackend.figure_format = 'retina'\n",
    "\n",
    "import tensorflow as tf\n",
    "import pickle\n",
    "import helper\n",
    "import random\n",
    "\n",
    "# Set batch size if not already set\n",
    "try:\n",
    "    if batch_size:\n",
    "        pass\n",
    "except NameError:\n",
    "    batch_size = 64\n",
    "\n",
    "save_model_path = './image_classification'\n",
    "n_samples = 4\n",
    "top_n_predictions = 3\n",
    "\n",
    "def test_model():\n",
    "    \"\"\"\n",
    "    Test the saved model against the test dataset\n",
    "    \"\"\"\n",
    "\n",
    "    test_features, test_labels = pickle.load(open('preprocess_test.p', mode='rb'))\n",
    "    loaded_graph = tf.Graph()\n",
    "\n",
    "    with tf.Session(graph=loaded_graph) as sess:\n",
    "        # Load model\n",
    "        loader = tf.train.import_meta_graph(save_model_path + '.meta')\n",
    "        loader.restore(sess, save_model_path)\n",
    "\n",
    "        # Get Tensors from loaded model\n",
    "        loaded_x = loaded_graph.get_tensor_by_name('x:0')\n",
    "        loaded_y = loaded_graph.get_tensor_by_name('y:0')\n",
    "        loaded_keep_prob = loaded_graph.get_tensor_by_name('keep_prob:0')\n",
    "        loaded_logits = loaded_graph.get_tensor_by_name('logits:0')\n",
    "        loaded_acc = loaded_graph.get_tensor_by_name('accuracy:0')\n",
    "        \n",
    "        # Get accuracy in batches for memory limitations\n",
    "        test_batch_acc_total = 0\n",
    "        test_batch_count = 0\n",
    "        \n",
    "        for test_feature_batch, test_label_batch in helper.batch_features_labels(test_features, test_labels, batch_size):\n",
    "            test_batch_acc_total += sess.run(\n",
    "                loaded_acc,\n",
    "                feed_dict={loaded_x: test_feature_batch, loaded_y: test_label_batch, loaded_keep_prob: 1.0})\n",
    "            test_batch_count += 1\n",
    "\n",
    "        print('Testing Accuracy: {}\\n'.format(test_batch_acc_total/test_batch_count))\n",
    "\n",
    "        # Print Random Samples\n",
    "        random_test_features, random_test_labels = tuple(zip(*random.sample(list(zip(test_features, test_labels)), n_samples)))\n",
    "        random_test_predictions = sess.run(\n",
    "            tf.nn.top_k(tf.nn.softmax(loaded_logits), top_n_predictions),\n",
    "            feed_dict={loaded_x: random_test_features, loaded_y: random_test_labels, loaded_keep_prob: 1.0})\n",
    "        helper.display_image_predictions(random_test_features, random_test_labels, random_test_predictions)\n",
    "\n",
    "\n",
    "test_model()"
   ]
  },
  {
   "cell_type": "markdown",
   "metadata": {},
   "source": [
    "## Why 50-80% Accuracy?\n",
    "You might be wondering why you can't get an accuracy any higher. First things first, 50% isn't bad for a simple CNN.  Pure guessing would get you 10% accuracy. However, you might notice people are getting scores [well above 80%](http://rodrigob.github.io/are_we_there_yet/build/classification_datasets_results.html#43494641522d3130).  That's because we haven't taught you all there is to know about neural networks. We still need to cover a few more techniques.\n",
    "## Submitting This Project\n",
    "When submitting this project, make sure to run all the cells before saving the notebook.  Save the notebook file as \"dlnd_image_classification.ipynb\" and save it as a HTML file under \"File\" -> \"Download as\".  Include the \"helper.py\" and \"problem_unittests.py\" files in your submission."
   ]
  }
 ],
 "metadata": {
  "kernelspec": {
   "display_name": "Python 3",
   "language": "python",
   "name": "python3"
  },
  "language_info": {
   "codemirror_mode": {
    "name": "ipython",
    "version": 3
   },
   "file_extension": ".py",
   "mimetype": "text/x-python",
   "name": "python",
   "nbconvert_exporter": "python",
   "pygments_lexer": "ipython3",
   "version": "3.5.3"
  }
 },
 "nbformat": 4,
 "nbformat_minor": 1
}
